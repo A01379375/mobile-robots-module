{
 "cells": [
  {
   "cell_type": "markdown",
   "id": "3d4596fe",
   "metadata": {},
   "source": [
    "# Dead reckoning for a unicycle model\n",
    "The state of the unicycle model is\n",
    "$$ \\zeta = \\begin{bmatrix} \\theta\\\\x\\\\y \\end{bmatrix}, $$\n",
    "and its kinematics is given by\n",
    "$$ \\dot{\\zeta} = \\begin{bmatrix} \\dot{\\theta} \\\\ \\dot{x} \\\\ \\dot{y} \\end{bmatrix} = \\begin{bmatrix} \\omega \\\\ v\\cos\\theta \\\\ v\\sin\\theta \\end{bmatrix}, $$\n",
    "where $v$ is the linear velocity and $\\omega$ is the angular velocity, both of which are considered input signals to the model."
   ]
  },
  {
   "cell_type": "markdown",
   "id": "5815b8d0",
   "metadata": {},
   "source": [
    "If we have an estimate of the state at some point in time $t_k$, $\\hat{\\zeta}(t_k) = \\hat{\\zeta}_k$, we can estimate the state at some (short) time later by integrating the kinematics equation, given knowledge of the input signals. It is common to use Euler's approximation to the derivative \n",
    "$$ \\dot{\\zeta}_k \\approx \\frac{\\zeta_{k+1} - \\zeta_k}{\\Delta t}, $$\n",
    "which gives\n",
    "$$ \\frac{\\hat{\\zeta}_{k+1} - \\hat{\\zeta}_k}{\\Delta t} =  \\begin{bmatrix} \\omega_k \\\\ v_k\\cos\\theta_k \\\\ v_k\\sin\\theta_k \\end{bmatrix}, $$\n",
    "leading to \n",
    "$$ \\hat{\\zeta}_{k+1} = \\hat{\\zeta}_k + \\Delta t \\begin{bmatrix} \\omega_k \\\\ v_k\\cos\\theta_k \\\\ v_k\\sin\\theta_k \\end{bmatrix}. $$"
   ]
  },
  {
   "cell_type": "markdown",
   "id": "8d6bb859",
   "metadata": {},
   "source": [
    "## Example: circular motion\n",
    "The robot is moving along a circular path with constant linear velocity $v$=1 m/s, and constant angular velocity $\\omega$=1 rad/s. Clearly, the radius of the circle is $r$=1 m. At time $t=0$ the robot starts at the origin with linear velocity in the direction of the x-axis. The true state is thus given by\n",
    "$$\\zeta(t) = \\begin{bmatrix} \\theta(t)\\\\x(t)\\\\y(t) \\end{bmatrix} = \\begin{bmatrix} t \\\\ \\sin(t) \\\\ 1 - \\cos(t) \\end{bmatrix}. $$ "
   ]
  },
  {
   "cell_type": "code",
   "execution_count": null,
   "id": "ac70ba71",
   "metadata": {},
   "outputs": [],
   "source": [
    "import numpy as np\n",
    "import matplotlib.pyplot as plt\n",
    "%matplotlib notebook"
   ]
  },
  {
   "cell_type": "code",
   "execution_count": null,
   "id": "ec353e41",
   "metadata": {},
   "outputs": [],
   "source": [
    "# Plotting the path\n",
    "tv = np.linspace(0,2*np.pi, 100)\n",
    "plt.figure()\n",
    "plt.plot(np.sin(tv), 1-np.cos(tv))"
   ]
  },
  {
   "cell_type": "markdown",
   "id": "753dbabe",
   "metadata": {},
   "source": [
    "## Implement dead reckoning\n",
    "Implement dead reckoning and compare the resulting path with the true path."
   ]
  },
  {
   "cell_type": "code",
   "execution_count": null,
   "id": "460a642b",
   "metadata": {},
   "outputs": [],
   "source": [
    "zeta0 = np.array([0.0, 0.0, 0.0]) # The initial state\n",
    "zetahat = [] # The estimated states\n",
    "tt = [] # The time vector\n",
    "dt = 0.3\n",
    "t = 0\n",
    "zeta_k = zeta0\n",
    "def v(t): # The linear velocity input signal\n",
    "    return 1.0\n",
    "def w(t): # The angular velocity input signal\n",
    "    return 1.0\n",
    "while (t < 2*np.pi): # Do one complete revolution\n",
    "    zetahat.append(zeta_k.copy())\n",
    "    tt.append(t)\n",
    "    th_k = zeta_k[0] # The heading angle\n",
    "    w_k = w(t) # The angular velocity\n",
    "    v_k = v(t) # The linear velocity \n",
    "    #-----------------------------------------\n",
    "    # YOUR CODE HERE\n",
    "    #-----------------------------------------"
   ]
  },
  {
   "cell_type": "code",
   "execution_count": null,
   "id": "95d91f86",
   "metadata": {},
   "outputs": [],
   "source": [
    "# Plot the results\n",
    "zetahat = np.array(zetahat)\n",
    "plt.figure()\n",
    "plt.plot(np.sin(tv), 1-np.cos(tv), 'b', zetahat[:,1], zetahat[:,2], 'ro')\n",
    "plt.show()"
   ]
  },
  {
   "cell_type": "code",
   "execution_count": null,
   "id": "7ca29ab4",
   "metadata": {},
   "outputs": [],
   "source": [
    "plt.figure()\n",
    "plt.plot(tv, tv, 'b', tt, zetahat[:,0], 'ro')"
   ]
  },
  {
   "cell_type": "code",
   "execution_count": null,
   "id": "0e618935",
   "metadata": {},
   "outputs": [],
   "source": []
  }
 ],
 "metadata": {
  "kernelspec": {
   "display_name": "Python 3 (ipykernel)",
   "language": "python",
   "name": "python3"
  },
  "language_info": {
   "codemirror_mode": {
    "name": "ipython",
    "version": 3
   },
   "file_extension": ".py",
   "mimetype": "text/x-python",
   "name": "python",
   "nbconvert_exporter": "python",
   "pygments_lexer": "ipython3",
   "version": "3.8.11"
  }
 },
 "nbformat": 4,
 "nbformat_minor": 5
}
