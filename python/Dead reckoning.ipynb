{
 "cells": [
  {
   "cell_type": "markdown",
   "id": "18727778",
   "metadata": {},
   "source": [
    "# Dead reckoning for the canonical model\n",
    "The state of the canonical (unicycle) model is\n",
    "$$ \\zeta = \\begin{bmatrix} \\theta\\\\x\\\\y \\end{bmatrix}, $$\n",
    "and its kinematics is given by\n",
    "$$ \\dot{\\zeta} = \\begin{bmatrix} \\dot{\\theta} \\\\ \\dot{x} \\\\ \\dot{y} \\end{bmatrix} = \\begin{bmatrix} \\omega \\\\ v\\cos\\theta \\\\ v\\sin\\theta \\end{bmatrix}, $$\n",
    "where $v$ is the linear velocity and $\\omega$ is the angular velocity, both of which are considered input signals to the model."
   ]
  },
  {
   "cell_type": "markdown",
   "id": "7b52533c",
   "metadata": {},
   "source": [
    "If we have an estimate of the state at some point in time $t_k$, $\\hat{\\zeta}(t_k) = \\hat{\\zeta}_k$, we can estimate the state at some (short) time later by integrating the kinematics equation, given knowledge of the input signals. It is common to use Euler's approximation to the derivative \n",
    "$$ \\dot{\\zeta}_k \\approx \\frac{\\zeta_{k+1} - \\zeta_k}{\\Delta t}, $$\n",
    "which gives\n",
    "$$ \\frac{\\hat{\\zeta}_{k+1} - \\hat{\\zeta}_k}{\\Delta t} =  \\begin{bmatrix} \\omega_k \\\\ v_k\\cos\\theta_k \\\\ v_k\\sin\\theta_k \\end{bmatrix}, $$\n",
    "leading to \n",
    "$$ \\hat{\\zeta}_{k+1} = \\hat{\\zeta}_k + \\Delta t \\begin{bmatrix} \\omega_k \\\\ v_k\\cos\\theta_k \\\\ v_k\\sin\\theta_k \\end{bmatrix}. $$"
   ]
  },
  {
   "cell_type": "markdown",
   "id": "f44db647",
   "metadata": {},
   "source": [
    "## Example: circular motion\n",
    "The robot is moving along a circular path with constant linear velocity $v$=1 m/s, and constant angular velocity $\\omega$=1 rad/s. Clearly, the radius of the circle is $r$=1 m. At time $t=0$ the robot starts at the origin with linear velocity in the direction of the x-axis. The true state is thus given by\n",
    "$$\\zeta(t) = \\begin{bmatrix} \\theta(t)\\\\x(t)\\\\y(t) \\end{bmatrix} = \\begin{bmatrix} t \\\\ \\sin(t) \\\\ 1 - \\cos(t) \\end{bmatrix}. $$ "
   ]
  },
  {
   "cell_type": "code",
   "execution_count": null,
   "id": "72835c63",
   "metadata": {},
   "outputs": [],
   "source": [
    "import numpy as np\n",
    "import matplotlib.pyplot as plt\n",
    "%matplotlib notebook"
   ]
  },
  {
   "cell_type": "code",
   "execution_count": null,
   "id": "d806f12a",
   "metadata": {},
   "outputs": [],
   "source": [
    "# Plotting the path\n",
    "tv = np.linspace(0,2*np.pi, 100)\n",
    "plt.figure()\n",
    "plt.plot(np.sin(tv), 1-np.cos(tv))"
   ]
  },
  {
   "cell_type": "markdown",
   "id": "aa0585bc",
   "metadata": {},
   "source": [
    "## Implement dead reckoning\n",
    "Implement dead reckoning and compare the resulting path with the true path."
   ]
  },
  {
   "cell_type": "code",
   "execution_count": null,
   "id": "a5c203b8",
   "metadata": {},
   "outputs": [],
   "source": [
    "def dead_reckoning(zeta_k, w_k, v_k, dt):\n",
    "    \"\"\"\n",
    "    Returns an estimate of the state of the canonical model by\n",
    "    integrating the kinematics equation over dt using Euler's method\n",
    "    \n",
    "    Argments\n",
    "    --------\n",
    "    zeta_k : ndarray (3,)\n",
    "             The state at time t_k\n",
    "    w_k    : float\n",
    "             Angular velocity at time t_k\n",
    "    v_k    : float\n",
    "             Linear velocity at time t_k\n",
    "    \n",
    "    Returns\n",
    "    -------\n",
    "    zeta_kk : ndarray (3,)\n",
    "              The state at time t_k + dt\n",
    "    \"\"\"\n",
    "    #-----------------------------------------\n",
    "    # YOUR CODE HERE\n",
    "    #-----------------------------------------    \n",
    "\n",
    "    \n",
    "zeta0 = np.array([0.0, 0.0, 0.0]) # The initial state\n",
    "zetahat = [] # The estimated states\n",
    "tt = [] # The time vector\n",
    "dt = 0.3\n",
    "t = 0\n",
    "zeta_k = zeta0\n",
    "def v(t): # The linear velocity input signal\n",
    "    return 1.0\n",
    "def w(t): # The angular velocity input signal\n",
    "    return 1.0\n",
    "while (t < 2*np.pi): # Do one complete revolution\n",
    "    zetahat.append(zeta_k.copy())\n",
    "    tt.append(t)\n",
    "    w_k = w(t) # The angular velocity\n",
    "    v_k = v(t) # The linear velocity \n",
    "    zeta_k = dead_reckoning(zeta_k, w_k, v_k)\n"
   ]
  },
  {
   "cell_type": "code",
   "execution_count": null,
   "id": "b87e8dfe",
   "metadata": {},
   "outputs": [],
   "source": [
    "# Plot the results\n",
    "zetahat = np.array(zetahat)\n",
    "plt.figure()\n",
    "plt.plot(np.sin(tv), 1-np.cos(tv), 'b', zetahat[:,1], zetahat[:,2], 'ro')\n",
    "plt.show()"
   ]
  },
  {
   "cell_type": "code",
   "execution_count": null,
   "id": "83c56a72",
   "metadata": {},
   "outputs": [],
   "source": [
    "plt.figure()\n",
    "plt.plot(tv, tv, 'b', tt, zetahat[:,0], 'ro')"
   ]
  },
  {
   "cell_type": "markdown",
   "id": "c70f4e78",
   "metadata": {},
   "source": [
    "## Difference between two poses\n",
    "Convert the state of the canonical model into a pose object, similar to the one used in ROS. See [geometry_msgs/Pose](http://docs.ros.org/en/noetic/api/geometry_msgs/html/msg/Pose.html), with position as a 3D-vector and orientation as a quaternion.\n",
    "\n",
    "Implement a method that calculates the difference between two poses as an absolute distance and an absolute angle.\n",
    "\n",
    "The code below makes use of the [quaternion library](https://quaternion.readthedocs.io/en/latest/) for numpy. "
   ]
  },
  {
   "cell_type": "code",
   "execution_count": 1,
   "id": "02570ac3",
   "metadata": {},
   "outputs": [
    {
     "name": "stdout",
     "output_type": "stream",
     "text": [
      "Collecting numpy-quaternion\n",
      "  Downloading numpy_quaternion-2022.2.10.14.20.39-cp38-cp38-manylinux_2_5_x86_64.manylinux1_x86_64.manylinux_2_17_x86_64.manylinux2014_x86_64.whl (200 kB)\n",
      "\u001b[2K     \u001b[38;2;114;156;31m━━━━━━━━━━━━━━━━━━━━━━━━━━━━━━━━━━━━━\u001b[0m \u001b[32m200.9/200.9 KB\u001b[0m \u001b[31m724.5 kB/s\u001b[0m eta \u001b[36m0:00:00\u001b[0m1m760.5 kB/s\u001b[0m eta \u001b[36m0:00:01\u001b[0m\n",
      "\u001b[?25hCollecting numpy>=1.13\n",
      "  Downloading numpy-1.22.3-cp38-cp38-manylinux_2_17_x86_64.manylinux2014_x86_64.whl (16.8 MB)\n",
      "\u001b[2K     \u001b[38;2;114;156;31m━━━━━━━━━━━━━━━━━━━━━━━━━━━━━━━━━━━━━━━━\u001b[0m \u001b[32m16.8/16.8 MB\u001b[0m \u001b[31m1.1 MB/s\u001b[0m eta \u001b[36m0:00:00\u001b[0mm eta \u001b[36m0:00:01\u001b[0m[36m0:00:01\u001b[0mm\n",
      "\u001b[?25hInstalling collected packages: numpy, numpy-quaternion\n",
      "  Attempting uninstall: numpy\n",
      "    Found existing installation: numpy 1.21.1\n",
      "    Uninstalling numpy-1.21.1:\n",
      "      Successfully uninstalled numpy-1.21.1\n",
      "Successfully installed numpy-1.22.3 numpy-quaternion-2022.2.10.14.20.39\n",
      "\u001b[33mWARNING: You are using pip version 22.0.3; however, version 22.0.4 is available.\n",
      "You should consider upgrading via the '/home/kjartan/.pyenv/versions/tug/bin/python -m pip install --upgrade pip' command.\u001b[0m\u001b[33m\n",
      "\u001b[0m"
     ]
    }
   ],
   "source": [
    "!python -m pip install --upgrade --force-reinstall numpy-quaternion"
   ]
  },
  {
   "cell_type": "code",
   "execution_count": null,
   "id": "448741fc",
   "metadata": {},
   "outputs": [],
   "source": [
    "class Pose:\n",
    "    def __init__(self, position=[0,0,0], orientation=[0,0,0,1]):\n",
    "        self.position = np.asarray(position)\n",
    "        self.orientation = np.quaternion(orientation)\n",
    "        # Make sure orientation is a unit quaternion\n",
    "        self.orientation /= np.linalg.norm(self.orientation)\n",
    "        \n",
    "    def from_robot_state(th, x, y):\n",
    "        \"\"\"\n",
    "        Returns a Pose object corresponding to the pose of a wheeled robot described\n",
    "        by the canonical nonholonomic model \n",
    "        \"\"\"\n",
    "        \n",
    "    def diff(self, other):\n",
    "        \"\"\"\n",
    "        Returns the difference between this pose and another pose as an absolute distance\n",
    "        and an absolute angle\n",
    "        \"\"\"\n",
    "        \n",
    "        "
   ]
  },
  {
   "cell_type": "code",
   "execution_count": null,
   "id": "3dba4ed8",
   "metadata": {},
   "outputs": [],
   "source": []
  }
 ],
 "metadata": {
  "kernelspec": {
   "display_name": "Python 3 (ipykernel)",
   "language": "python",
   "name": "python3"
  },
  "language_info": {
   "codemirror_mode": {
    "name": "ipython",
    "version": 3
   },
   "file_extension": ".py",
   "mimetype": "text/x-python",
   "name": "python",
   "nbconvert_exporter": "python",
   "pygments_lexer": "ipython3",
   "version": "3.8.11"
  }
 },
 "nbformat": 4,
 "nbformat_minor": 5
}
