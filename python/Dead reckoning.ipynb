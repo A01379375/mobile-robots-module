{
 "cells": [
  {
   "cell_type": "markdown",
   "id": "dbcc117c",
   "metadata": {},
   "source": [
    "# Dead reckoning for the canonical model\n",
    "The state of the canonical (unicycle) model is\n",
    "$$ \\zeta = \\begin{bmatrix} \\theta\\\\x\\\\y \\end{bmatrix}, $$\n",
    "and its kinematics is given by\n",
    "$$ \\dot{\\zeta} = \\begin{bmatrix} \\dot{\\theta} \\\\ \\dot{x} \\\\ \\dot{y} \\end{bmatrix} = \\begin{bmatrix} \\omega \\\\ v\\cos\\theta \\\\ v\\sin\\theta \\end{bmatrix}, $$\n",
    "where $v$ is the linear velocity and $\\omega$ is the angular velocity, both of which are considered input signals to the model."
   ]
  },
  {
   "cell_type": "markdown",
   "id": "c93db811",
   "metadata": {},
   "source": [
    "If we have an estimate of the state at some point in time $t_k$, $\\hat{\\zeta}(t_k) = \\hat{\\zeta}_k$, we can estimate the state at some (short) time later by integrating the kinematics equation, given knowledge of the input signals. It is common to use Euler's approximation to the derivative \n",
    "$$ \\dot{\\zeta}_k \\approx \\frac{\\zeta_{k+1} - \\zeta_k}{\\Delta t}, $$\n",
    "which gives\n",
    "$$ \\frac{\\hat{\\zeta}_{k+1} - \\hat{\\zeta}_k}{\\Delta t} =  \\begin{bmatrix} \\omega_k \\\\ v_k\\cos\\theta_k \\\\ v_k\\sin\\theta_k \\end{bmatrix}, $$\n",
    "leading to \n",
    "$$ \\hat{\\zeta}_{k+1} = \\hat{\\zeta}_k + \\Delta t \\begin{bmatrix} \\omega_k \\\\ v_k\\cos\\theta_k \\\\ v_k\\sin\\theta_k \\end{bmatrix}. $$"
   ]
  },
  {
   "cell_type": "markdown",
   "id": "4d772e46",
   "metadata": {},
   "source": [
    "## Example: circular motion\n",
    "The robot is moving along a circular path with constant linear velocity $v$=1 m/s, and constant angular velocity $\\omega$=1 rad/s. Clearly, the radius of the circle is $r$=1 m. At time $t=0$ the robot starts at the origin with linear velocity in the direction of the x-axis. The true state is thus given by\n",
    "$$\\zeta(t) = \\begin{bmatrix} \\theta(t)\\\\x(t)\\\\y(t) \\end{bmatrix} = \\begin{bmatrix} t \\\\ \\sin(t) \\\\ 1 - \\cos(t) \\end{bmatrix}. $$ "
   ]
  },
  {
   "cell_type": "code",
   "execution_count": null,
   "id": "fda98ef5",
   "metadata": {},
   "outputs": [],
   "source": [
    "import numpy as np\n",
    "import matplotlib.pyplot as plt\n",
    "%matplotlib notebook"
   ]
  },
  {
   "cell_type": "code",
   "execution_count": null,
   "id": "fe8538cd",
   "metadata": {},
   "outputs": [],
   "source": [
    "# The true state sequence\n",
    "dt = 0.1 # Time step\n",
    "tv = np.arange(80)*dt\n",
    "zeta_true = np.asarray([(t_, np.sin(t_), 1-np.cos(t_)) for t_ in tv])\n",
    "\n",
    "# Plotting the path\n",
    "plt.figure()\n",
    "plt.plot(zeta_true[:,1], zeta_true[:,2])"
   ]
  },
  {
   "cell_type": "markdown",
   "id": "f721a842",
   "metadata": {},
   "source": [
    "## Implement dead reckoning\n",
    "Implement dead reckoning and compare the resulting path with the true path."
   ]
  },
  {
   "cell_type": "code",
   "execution_count": null,
   "id": "efe89245",
   "metadata": {},
   "outputs": [],
   "source": [
    "def dead_reckoning(zeta_k, w_k, v_k, dt):\n",
    "    \"\"\"\n",
    "    Returns an estimate of the state of the canonical model by\n",
    "    integrating the kinematics equation over dt using Euler's method\n",
    "    \n",
    "    Argments\n",
    "    --------\n",
    "    zeta_k : ndarray (3,)\n",
    "             The state at time t_k\n",
    "    w_k    : float\n",
    "             Angular velocity at time t_k\n",
    "    v_k    : float\n",
    "             Linear velocity at time t_k\n",
    "    \n",
    "    Returns\n",
    "    -------\n",
    "    zeta_kk : ndarray (3,)\n",
    "              The state at time t_k + dt\n",
    "    \"\"\"\n",
    "    th_k = zeta_k[0]\n",
    "    \n",
    "    #-----------------------------------------\n",
    "    # YOUR CODE HERE.\n",
    "    # Remember to return the estimated state zeta_kk\n",
    "    #-----------------------------------------    \n",
    "\n",
    "    \n",
    "zeta0 = np.array([0.0, 0.0, 0.0]) # The initial state\n",
    "zeta_hat = [] # The estimated states\n",
    "tt = [] # The time vector\n",
    "t = 0\n",
    "zeta_k = zeta0\n",
    "def v(t): # The linear velocity input signal\n",
    "    return 1.0\n",
    "def w(t): # The angular velocity input signal\n",
    "    return 1.0\n",
    "while (t < 2*np.pi): # Do one complete revolution\n",
    "    zeta_hat.append(zeta_k.copy())\n",
    "    tt.append(t)\n",
    "    w_k = w(t) # The angular velocity\n",
    "    v_k = v(t) # The linear velocity \n",
    "    zeta_k = dead_reckoning(zeta_k, w_k, v_k, dt)\n",
    "    t += dt"
   ]
  },
  {
   "cell_type": "code",
   "execution_count": null,
   "id": "8a3e1fa5",
   "metadata": {},
   "outputs": [],
   "source": [
    "# Plot the results\n",
    "zeta_hat = np.array(zeta_hat)\n",
    "plt.figure()\n",
    "plt.plot(np.sin(tv), 1-np.cos(tv), 'b', zeta_hat[:,1], zeta_hat[:,2], 'ro')\n",
    "plt.show()"
   ]
  },
  {
   "cell_type": "code",
   "execution_count": null,
   "id": "213e16e1",
   "metadata": {},
   "outputs": [],
   "source": [
    "plt.figure()\n",
    "plt.plot(tv, tv, 'b', tt, zeta_hat[:,0], 'ro')"
   ]
  },
  {
   "cell_type": "markdown",
   "id": "a1cb827b",
   "metadata": {},
   "source": [
    "## Difference between two poses\n",
    "Convert the state of the canonical model into a pose object, similar to the one used in ROS. See [geometry_msgs/Pose](http://docs.ros.org/en/noetic/api/geometry_msgs/html/msg/Pose.html), with position as a 3D-vector and orientation as a quaternion.\n",
    "\n",
    "Implement a method that calculates the difference between two poses as an absolute distance and an absolute angle.\n",
    "\n",
    "The code below makes use of the [transforms3d library](https://matthew-brett.github.io/transforms3d/reference/index.html) by Mathew Brett. "
   ]
  },
  {
   "cell_type": "code",
   "execution_count": null,
   "id": "51a9f97c",
   "metadata": {},
   "outputs": [],
   "source": [
    "! pip install transforms3d"
   ]
  },
  {
   "cell_type": "code",
   "execution_count": null,
   "id": "a8a8d080",
   "metadata": {},
   "outputs": [],
   "source": [
    "import transforms3d.quaternions as quat\n",
    "class Pose:\n",
    "    def __init__(self, position=[0,0,0], orientation=[1,0,0,0]):\n",
    "        \"\"\" Constructor\n",
    "        Arguments\n",
    "        ---------\n",
    "        position : array-like (3,)\n",
    "                   The position (x, y, z)\n",
    "        orientation : array-like(4,)\n",
    "                      The orientation expressed as a quaternion (w, x, y, z)\n",
    "        \"\"\"\n",
    "        self.position = np.asarray(position, dtype='float64')\n",
    "        self.orientation = np.asarray(orientation, dtype='float64')\n",
    "        # Make sure orientation is a unit quaternion\n",
    "        self.orientation /= np.linalg.norm(self.orientation)\n",
    "        \n",
    "    def from_robot_state(th, x, y):\n",
    "        \"\"\"\n",
    "        Returns a Pose object corresponding to the pose of a wheeled robot described\n",
    "        by the canonical nonholonomic model \n",
    "        \"\"\"\n",
    "        \n",
    "        #-----------------------------------------\n",
    "        # YOUR CODE HERE\n",
    "        #-----------------------------------------    \n",
    "\n",
    "\n",
    "        return Pose(position=[x,y,0], orientation=[np.cos(th/2),0,0,np.sin(th/2)])\n",
    "    def diff(self, other):\n",
    "        \"\"\"\n",
    "        Returns the difference between this pose and another pose as an absolute distance\n",
    "        and an absolute angle\n",
    "        \"\"\"\n",
    "\n",
    "        #-----------------------------------------\n",
    "        # YOUR CODE HERE\n",
    "        #-----------------------------------------    \n",
    "        \n",
    "        \n",
    "    def __repr__(self):\n",
    "        return \"\"\"Pose:\n",
    "          position = [%f, %f, %f]\n",
    "          orientation = [%f, %f, %f, %f]\"\"\" %(*self.position, *self.orientation)\n",
    "p = Pose(orientation=[0,0,0,0.5])\n",
    "p.orientation"
   ]
  },
  {
   "cell_type": "code",
   "execution_count": null,
   "id": "119ec670",
   "metadata": {},
   "outputs": [],
   "source": [
    "# Tests\n",
    "th = np.pi/4\n",
    "q = quat.axangle2quat([0,0, 1], th, is_normalized=True)\n",
    "p = Pose.from_robot_state(th, 0, 0)\n",
    "assert np.allclose(q, p.orientation), \"Orientation not as expected\""
   ]
  },
  {
   "cell_type": "code",
   "execution_count": null,
   "id": "8e89cc9c",
   "metadata": {},
   "outputs": [],
   "source": [
    "p_true = [Pose.from_robot_state(th_, x_, y_) for th_, x_, y_ in zeta_true]\n",
    "p_hat = [Pose.from_robot_state(th_, x_, y_) for th_, x_, y_ in zeta_hat]\n",
    "estimation_error = np.asarray([p_.diff(phat_) for p_, phat_ in zip(p_true, p_hat)])"
   ]
  },
  {
   "cell_type": "code",
   "execution_count": null,
   "id": "a5bbb9ba",
   "metadata": {},
   "outputs": [],
   "source": [
    "plt.figure()\n",
    "plt.subplot(211)\n",
    "plt.plot(estimation_error[:,0])\n",
    "plt.ylabel('Error in position')\n",
    "plt.subplot(212)\n",
    "plt.plot(estimation_error[:,1])\n",
    "plt.ylabel('Error in angle')\n",
    "\n"
   ]
  },
  {
   "cell_type": "code",
   "execution_count": null,
   "id": "aabe56b4",
   "metadata": {},
   "outputs": [],
   "source": []
  }
 ],
 "metadata": {
  "kernelspec": {
   "display_name": "Python 3 (ipykernel)",
   "language": "python",
   "name": "python3"
  },
  "language_info": {
   "codemirror_mode": {
    "name": "ipython",
    "version": 3
   },
   "file_extension": ".py",
   "mimetype": "text/x-python",
   "name": "python",
   "nbconvert_exporter": "python",
   "pygments_lexer": "ipython3",
   "version": "3.8.11"
  }
 },
 "nbformat": 4,
 "nbformat_minor": 5
}
